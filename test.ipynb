{
  "cells": [
    {
      "cell_type": "code",
      "source": [
        "from image import Image\n",
        "import matplotlib.pyplot as plt"
      ],
      "outputs": [],
      "execution_count": 1,
      "metadata": {
        "collapsed": true,
        "jupyter": {
          "source_hidden": false,
          "outputs_hidden": false
        },
        "nteract": {
          "transient": {
            "deleting": false
          }
        },
        "execution": {
          "iopub.status.busy": "2020-07-23T05:45:18.221Z",
          "iopub.execute_input": "2020-07-23T05:45:18.226Z",
          "iopub.status.idle": "2020-07-23T05:45:18.397Z",
          "shell.execute_reply": "2020-07-23T05:45:18.447Z"
        }
      }
    },
    {
      "cell_type": "code",
      "source": [
        "circle1 = \"./testimages/circle1.jpg\"\n",
        "circle2 = \"./testimages/circle2.jpg\"\n",
        "circle3 = \"./testimages/circle3.jpg\"\n",
        "star1 = \"./testimages/star1.jpg\"\n",
        "star2 = \"./testimages/star2.jpg\"\n",
        "star3 = \"./testimages/star3.jpg\"\n",
        "star4 = \"./testimages/star4.jpg\""
      ],
      "outputs": [],
      "execution_count": 2,
      "metadata": {
        "collapsed": true,
        "jupyter": {
          "source_hidden": false,
          "outputs_hidden": false
        },
        "nteract": {
          "transient": {
            "deleting": false
          }
        },
        "execution": {
          "iopub.status.busy": "2020-07-23T05:45:18.406Z",
          "iopub.execute_input": "2020-07-23T05:45:18.412Z",
          "iopub.status.idle": "2020-07-23T05:45:18.422Z",
          "shell.execute_reply": "2020-07-23T05:45:18.450Z"
        }
      }
    },
    {
      "cell_type": "code",
      "source": [
        "c1 = Image()\n",
        "c1.load_file(circle1)"
      ],
      "outputs": [],
      "execution_count": 3,
      "metadata": {
        "collapsed": true,
        "jupyter": {
          "source_hidden": false,
          "outputs_hidden": false
        },
        "nteract": {
          "transient": {
            "deleting": false
          }
        },
        "execution": {
          "iopub.status.busy": "2020-07-23T05:45:18.432Z",
          "iopub.execute_input": "2020-07-23T05:45:18.438Z",
          "iopub.status.idle": "2020-07-23T05:45:18.463Z",
          "shell.execute_reply": "2020-07-23T05:45:18.468Z"
        }
      }
    },
    {
      "cell_type": "code",
      "source": [
        "c1.show()"
      ],
      "outputs": [
        {
          "output_type": "execute_result",
          "execution_count": 4,
          "data": {
            "text/plain": "<PIL.Image.Image image mode=RGB size=300x300 at 0x11B2EDB10>",
            "image/png": "[encoded data removed]"
          },
          "metadata": {}
        }
      ],
      "execution_count": 4,
      "metadata": {
        "collapsed": true,
        "jupyter": {
          "source_hidden": false,
          "outputs_hidden": false
        },
        "nteract": {
          "transient": {
            "deleting": false
          }
        },
        "execution": {
          "iopub.status.busy": "2020-07-23T05:45:18.508Z",
          "iopub.execute_input": "2020-07-23T05:45:18.513Z",
          "iopub.status.idle": "2020-07-23T05:45:18.526Z",
          "shell.execute_reply": "2020-07-23T05:45:18.558Z"
        }
      }
    },
    {
      "cell_type": "code",
      "source": [
        "c2 = Image()\n",
        "c2.load_file(circle2)\n",
        "c3 = Image()\n",
        "c3.load_file(circle3)"
      ],
      "outputs": [],
      "execution_count": 5,
      "metadata": {
        "collapsed": true,
        "jupyter": {
          "source_hidden": false,
          "outputs_hidden": false
        },
        "nteract": {
          "transient": {
            "deleting": false
          }
        },
        "execution": {
          "iopub.status.busy": "2020-07-23T05:45:18.536Z",
          "iopub.execute_input": "2020-07-23T05:45:18.542Z",
          "iopub.status.idle": "2020-07-23T05:45:18.642Z",
          "shell.execute_reply": "2020-07-23T05:45:18.649Z"
        }
      }
    },
    {
      "cell_type": "code",
      "source": [
        "c2.show()"
      ],
      "outputs": [
        {
          "output_type": "execute_result",
          "execution_count": 6,
          "data": {
            "text/plain": "<PIL.Image.Image image mode=RGB size=300x300 at 0x11BCE04D0>",
            "image/png": "[encoded data removed]"
          },
          "metadata": {}
        }
      ],
      "execution_count": 6,
      "metadata": {
        "collapsed": true,
        "jupyter": {
          "source_hidden": false,
          "outputs_hidden": false
        },
        "nteract": {
          "transient": {
            "deleting": false
          }
        },
        "execution": {
          "iopub.status.busy": "2020-07-23T05:45:18.687Z",
          "iopub.execute_input": "2020-07-23T05:45:18.691Z",
          "iopub.status.idle": "2020-07-23T05:45:18.704Z",
          "shell.execute_reply": "2020-07-23T05:45:18.721Z"
        }
      }
    },
    {
      "cell_type": "code",
      "source": [
        "c1.hu_moment()"
      ],
      "outputs": [
        {
          "output_type": "execute_result",
          "execution_count": 7,
          "data": {
            "text/plain": "(0.1591827763185205, 4.953591464561986e-10)"
          },
          "metadata": {}
        }
      ],
      "execution_count": 7,
      "metadata": {
        "collapsed": true,
        "jupyter": {
          "source_hidden": false,
          "outputs_hidden": false
        },
        "nteract": {
          "transient": {
            "deleting": false
          }
        },
        "execution": {
          "iopub.status.busy": "2020-07-23T05:45:18.710Z",
          "iopub.execute_input": "2020-07-23T05:45:18.775Z",
          "iopub.status.idle": "2020-07-23T05:45:19.157Z",
          "shell.execute_reply": "2020-07-23T05:45:19.177Z"
        }
      }
    },
    {
      "cell_type": "code",
      "source": [
        "c2.hu_moment()"
      ],
      "outputs": [
        {
          "output_type": "execute_result",
          "execution_count": 8,
          "data": {
            "text/plain": "(0.15929992264711396, 2.1787375103189415e-09)"
          },
          "metadata": {}
        }
      ],
      "execution_count": 8,
      "metadata": {
        "collapsed": true,
        "jupyter": {
          "source_hidden": false,
          "outputs_hidden": false
        },
        "nteract": {
          "transient": {
            "deleting": false
          }
        },
        "execution": {
          "iopub.status.busy": "2020-07-23T05:45:19.165Z",
          "iopub.execute_input": "2020-07-23T05:45:19.219Z",
          "iopub.status.idle": "2020-07-23T05:45:19.614Z",
          "shell.execute_reply": "2020-07-23T05:45:19.644Z"
        }
      }
    },
    {
      "cell_type": "code",
      "source": [
        "s1 = Image()\n",
        "s1.load_file(star1)\n",
        "s2 = Image()\n",
        "s2.load_file(star2)\n",
        "s3 = Image()\n",
        "s3.load_file(star3)\n",
        "s4 = Image()\n",
        "s4.load_file(star4)"
      ],
      "outputs": [],
      "execution_count": 9,
      "metadata": {
        "collapsed": true,
        "jupyter": {
          "source_hidden": false,
          "outputs_hidden": false
        },
        "nteract": {
          "transient": {
            "deleting": false
          }
        },
        "execution": {
          "iopub.status.busy": "2020-07-23T05:45:19.622Z",
          "iopub.execute_input": "2020-07-23T05:45:19.628Z",
          "iopub.status.idle": "2020-07-23T05:45:19.940Z",
          "shell.execute_reply": "2020-07-23T05:45:19.945Z"
        }
      }
    },
    {
      "cell_type": "code",
      "source": [
        "s1.show()"
      ],
      "outputs": [
        {
          "output_type": "execute_result",
          "execution_count": 15,
          "data": {
            "text/plain": "<PIL.Image.Image image mode=RGB size=300x300 at 0x10E512810>",
            "image/png": "[encoded data removed]"
          },
          "metadata": {}
        }
      ],
      "execution_count": 15,
      "metadata": {
        "collapsed": true,
        "jupyter": {
          "source_hidden": false,
          "outputs_hidden": false
        },
        "nteract": {
          "transient": {
            "deleting": false
          }
        },
        "execution": {
          "iopub.status.busy": "2020-07-23T06:09:45.652Z",
          "iopub.execute_input": "2020-07-23T06:09:45.656Z",
          "iopub.status.idle": "2020-07-23T06:09:45.664Z",
          "shell.execute_reply": "2020-07-23T06:09:45.676Z"
        }
      }
    },
    {
      "cell_type": "code",
      "source": [
        "stars = [s1.hu_moment(), s2.hu_moment(), s3.hu_moment(), s4.hu_moment()]\n",
        "circles = [c1.hu_moment(), c2.hu_moment(), c3.hu_moment()]\n",
        "plt.scatter(*zip(*stars))\n",
        "plt.scatter(*zip(*circles))\n",
        "plt.show()"
      ],
      "outputs": [
        {
          "output_type": "display_data",
          "data": {
            "text/plain": "<Figure size 432x288 with 1 Axes>",
            "image/png": "[encoded data removed]"
          },
          "metadata": {
            "needs_background": "light"
          }
        }
      ],
      "execution_count": 14,
      "metadata": {
        "collapsed": true,
        "jupyter": {
          "source_hidden": false,
          "outputs_hidden": false
        },
        "nteract": {
          "transient": {
            "deleting": false
          }
        },
        "execution": {
          "iopub.status.busy": "2020-07-23T05:45:22.015Z",
          "iopub.execute_input": "2020-07-23T05:45:22.071Z",
          "iopub.status.idle": "2020-07-23T05:45:25.654Z",
          "shell.execute_reply": "2020-07-23T05:45:25.665Z"
        }
      }
    },
    {
      "cell_type": "code",
      "source": [],
      "outputs": [],
      "execution_count": null,
      "metadata": {
        "collapsed": true,
        "jupyter": {
          "source_hidden": false,
          "outputs_hidden": false
        },
        "nteract": {
          "transient": {
            "deleting": false
          }
        }
      }
    }
  ],
  "metadata": {
    "kernel_info": {
      "name": "python37564bit19fc6ae647c641adb0275f47650d0219"
    },
    "language_info": {
      "name": "python",
      "version": "3.7.5",
      "mimetype": "text/x-python",
      "codemirror_mode": {
        "name": "ipython",
        "version": 3
      },
      "pygments_lexer": "ipython3",
      "nbconvert_exporter": "python",
      "file_extension": ".py"
    },
    "kernelspec": {
      "argv": [
        "/usr/local/bin/python3",
        "-m",
        "ipykernel_launcher",
        "-f",
        "{connection_file}"
      ],
      "display_name": "Python 3.7.5 64-bit",
      "env": {},
      "language": "python",
      "metadata": {
        "interpreter": {
          "__store": true,
          "architecture": 3,
          "displayName": "Python 3.7.5 64-bit",
          "fileHash": "ddfc44467bbd40d576685c0eb3cd4a3621d99d1c3340a0c47f651ef4539224d1a362d3fa354acad1b6fe713e24dc76ad7c0998a0b0d163f8b28a692dd4fdbb7b",
          "path": "/usr/local/bin/python3",
          "sysPrefix": "/usr/local/Cellar/python/3.7.5/Frameworks/Python.framework/Versions/3.7",
          "type": "Unknown",
          "version": {
            "prerelease": [
              "final"
            ],
            "raw": "3.7.5-final",
            "patch": 5,
            "build": [],
            "minor": 7,
            "version": "3.7.5-final",
            "major": 3,
            "options": {
              "includePrerelease": false,
              "loose": false
            },
            "loose": false
          }
        }
      },
      "name": "python37564bit19fc6ae647c641adb0275f47650d0219"
    },
    "nteract": {
      "version": "0.24.0"
    }
  },
  "nbformat": 4,
  "nbformat_minor": 0
}