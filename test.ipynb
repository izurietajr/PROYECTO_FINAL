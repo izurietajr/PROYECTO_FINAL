{
  "cells": [
    {
      "cell_type": "code",
      "source": [
        "from image import Image\n",
        "import matplotlib.pyplot as plt"
      ],
      "outputs": [],
      "execution_count": 1,
      "metadata": {
        "collapsed": true,
        "jupyter": {
          "source_hidden": false,
          "outputs_hidden": false
        },
        "nteract": {
          "transient": {
            "deleting": false
          }
        },
        "execution": {
          "iopub.status.busy": "2020-07-23T05:38:19.408Z",
          "iopub.execute_input": "2020-07-23T05:38:19.415Z",
          "iopub.status.idle": "2020-07-23T05:38:19.604Z",
          "shell.execute_reply": "2020-07-23T05:38:19.653Z"
        }
      }
    },
    {
      "cell_type": "code",
      "source": [
        "circle1 = \"./testimages/circle1.jpg\"\n",
        "circle2 = \"./testimages/circle2.jpg\"\n",
        "circle3 = \"./testimages/circle3.jpg\"\n",
        "star1 = \"./testimages/star1.jpg\"\n",
        "star2 = \"./testimages/star2.jpg\"\n",
        "star3 = \"./testimages/star3.jpg\"\n",
        "star4 = \"./testimages/star4.jpg\""
      ],
      "outputs": [],
      "execution_count": 2,
      "metadata": {
        "collapsed": true,
        "jupyter": {
          "source_hidden": false,
          "outputs_hidden": false
        },
        "nteract": {
          "transient": {
            "deleting": false
          }
        },
        "execution": {
          "iopub.status.busy": "2020-07-23T05:38:19.612Z",
          "iopub.execute_input": "2020-07-23T05:38:19.617Z",
          "iopub.status.idle": "2020-07-23T05:38:19.627Z",
          "shell.execute_reply": "2020-07-23T05:38:19.657Z"
        }
      }
    },
    {
      "cell_type": "code",
      "source": [
        "c1 = Image()\n",
        "c1.load_file(circle1)"
      ],
      "outputs": [],
      "execution_count": 3,
      "metadata": {
        "collapsed": true,
        "jupyter": {
          "source_hidden": false,
          "outputs_hidden": false
        },
        "nteract": {
          "transient": {
            "deleting": false
          }
        },
        "execution": {
          "iopub.status.busy": "2020-07-23T05:38:19.636Z",
          "iopub.execute_input": "2020-07-23T05:38:19.641Z",
          "iopub.status.idle": "2020-07-23T05:38:19.673Z",
          "shell.execute_reply": "2020-07-23T05:38:19.679Z"
        }
      }
    },
    {
      "cell_type": "code",
      "source": [
        "c1.show()"
      ],
      "outputs": [
        {
          "output_type": "execute_result",
          "execution_count": 4,
          "data": {
            "text/plain": "<PIL.Image.Image image mode=RGB size=300x300 at 0x11E472710>",
            "image/png": "[encoded data removed]"
          },
          "metadata": {}
        }
      ],
      "execution_count": 4,
      "metadata": {
        "collapsed": true,
        "jupyter": {
          "source_hidden": false,
          "outputs_hidden": false
        },
        "nteract": {
          "transient": {
            "deleting": false
          }
        },
        "execution": {
          "iopub.status.busy": "2020-07-23T05:38:19.718Z",
          "iopub.execute_input": "2020-07-23T05:38:19.724Z",
          "iopub.status.idle": "2020-07-23T05:38:19.737Z",
          "shell.execute_reply": "2020-07-23T05:38:19.771Z"
        }
      }
    },
    {
      "cell_type": "code",
      "source": [
        "c2 = Image()\n",
        "c2.load_file(circle2)\n",
        "c3 = Image()\n",
        "c3.load_file(circle3)"
      ],
      "outputs": [],
      "execution_count": 18,
      "metadata": {
        "collapsed": true,
        "jupyter": {
          "source_hidden": false,
          "outputs_hidden": false
        },
        "nteract": {
          "transient": {
            "deleting": false
          }
        },
        "execution": {
          "iopub.status.busy": "2020-07-23T05:42:32.686Z",
          "iopub.execute_input": "2020-07-23T05:42:32.694Z",
          "iopub.status.idle": "2020-07-23T05:42:32.767Z",
          "shell.execute_reply": "2020-07-23T05:42:32.774Z"
        }
      }
    },
    {
      "cell_type": "code",
      "source": [
        "c2.show()"
      ],
      "outputs": [
        {
          "output_type": "execute_result",
          "execution_count": 6,
          "data": {
            "text/plain": "<PIL.Image.Image image mode=RGB size=300x300 at 0x11EF64A90>",
            "image/png": "[encoded data removed]"
          },
          "metadata": {}
        }
      ],
      "execution_count": 6,
      "metadata": {
        "collapsed": true,
        "jupyter": {
          "source_hidden": false,
          "outputs_hidden": false
        },
        "nteract": {
          "transient": {
            "deleting": false
          }
        },
        "execution": {
          "iopub.status.busy": "2020-07-23T05:38:19.841Z",
          "iopub.execute_input": "2020-07-23T05:38:19.846Z",
          "iopub.status.idle": "2020-07-23T05:38:19.858Z",
          "shell.execute_reply": "2020-07-23T05:38:19.871Z"
        }
      }
    },
    {
      "cell_type": "code",
      "source": [
        "c1.hu_moment()"
      ],
      "outputs": [
        {
          "output_type": "execute_result",
          "execution_count": 7,
          "data": {
            "text/plain": "(0.1591827763185205, 2.225666521418244e-05)"
          },
          "metadata": {}
        }
      ],
      "execution_count": 7,
      "metadata": {
        "collapsed": true,
        "jupyter": {
          "source_hidden": false,
          "outputs_hidden": false
        },
        "nteract": {
          "transient": {
            "deleting": false
          }
        },
        "execution": {
          "iopub.status.busy": "2020-07-23T05:38:19.906Z",
          "iopub.execute_input": "2020-07-23T05:38:19.942Z",
          "iopub.status.idle": "2020-07-23T05:38:20.366Z",
          "shell.execute_reply": "2020-07-23T05:38:20.378Z"
        }
      }
    },
    {
      "cell_type": "code",
      "source": [
        "c2.hu_moment()"
      ],
      "outputs": [
        {
          "output_type": "execute_result",
          "execution_count": 8,
          "data": {
            "text/plain": "(0.15929992264711396, 4.6676948382675376e-05)"
          },
          "metadata": {}
        }
      ],
      "execution_count": 8,
      "metadata": {
        "collapsed": true,
        "jupyter": {
          "source_hidden": false,
          "outputs_hidden": false
        },
        "nteract": {
          "transient": {
            "deleting": false
          }
        },
        "execution": {
          "iopub.status.busy": "2020-07-23T05:38:20.386Z",
          "iopub.execute_input": "2020-07-23T05:38:20.391Z",
          "iopub.status.idle": "2020-07-23T05:38:20.875Z",
          "shell.execute_reply": "2020-07-23T05:38:20.908Z"
        }
      }
    },
    {
      "cell_type": "code",
      "source": [
        "s1 = Image()\n",
        "s1.load_file(star1)\n",
        "s2 = Image()\n",
        "s2.load_file(star2)\n",
        "s3 = Image()\n",
        "s3.load_file(star3)\n",
        "s4 = Image()\n",
        "s4.load_file(star4)"
      ],
      "outputs": [],
      "execution_count": 9,
      "metadata": {
        "collapsed": true,
        "jupyter": {
          "source_hidden": false,
          "outputs_hidden": false
        },
        "nteract": {
          "transient": {
            "deleting": false
          }
        },
        "execution": {
          "iopub.status.busy": "2020-07-23T05:38:20.884Z",
          "iopub.execute_input": "2020-07-23T05:38:20.890Z",
          "iopub.status.idle": "2020-07-23T05:38:21.170Z",
          "shell.execute_reply": "2020-07-23T05:38:21.176Z"
        }
      }
    },
    {
      "cell_type": "code",
      "source": [
        "s1.hu_moment()"
      ],
      "outputs": [
        {
          "output_type": "execute_result",
          "execution_count": 10,
          "data": {
            "text/plain": "(0.2162437035817964, 2.6747356988375618e-05)"
          },
          "metadata": {}
        }
      ],
      "execution_count": 10,
      "metadata": {
        "collapsed": true,
        "jupyter": {
          "source_hidden": false,
          "outputs_hidden": false
        },
        "nteract": {
          "transient": {
            "deleting": false
          }
        },
        "execution": {
          "iopub.status.busy": "2020-07-23T05:38:21.186Z",
          "iopub.execute_input": "2020-07-23T05:38:21.232Z",
          "iopub.status.idle": "2020-07-23T05:38:21.684Z",
          "shell.execute_reply": "2020-07-23T05:38:21.696Z"
        }
      }
    },
    {
      "cell_type": "code",
      "source": [
        "s2.hu_moment()"
      ],
      "outputs": [
        {
          "output_type": "execute_result",
          "execution_count": 11,
          "data": {
            "text/plain": "(0.21685851808651274, 6.912940504458851e-05)"
          },
          "metadata": {}
        }
      ],
      "execution_count": 11,
      "metadata": {
        "collapsed": true,
        "jupyter": {
          "source_hidden": false,
          "outputs_hidden": false
        },
        "nteract": {
          "transient": {
            "deleting": false
          }
        },
        "execution": {
          "iopub.status.busy": "2020-07-23T05:38:21.748Z",
          "iopub.execute_input": "2020-07-23T05:38:21.792Z",
          "iopub.status.idle": "2020-07-23T05:38:22.194Z",
          "shell.execute_reply": "2020-07-23T05:38:22.209Z"
        }
      }
    },
    {
      "cell_type": "code",
      "source": [
        "s3.hu_moment()"
      ],
      "outputs": [
        {
          "output_type": "execute_result",
          "execution_count": 12,
          "data": {
            "text/plain": "(0.2162170223369867, 7.981503453965284e-05)"
          },
          "metadata": {}
        }
      ],
      "execution_count": 12,
      "metadata": {
        "collapsed": true,
        "jupyter": {
          "source_hidden": false,
          "outputs_hidden": false
        },
        "nteract": {
          "transient": {
            "deleting": false
          }
        },
        "execution": {
          "iopub.status.busy": "2020-07-23T05:38:22.235Z",
          "iopub.execute_input": "2020-07-23T05:38:22.272Z",
          "iopub.status.idle": "2020-07-23T05:38:22.697Z",
          "shell.execute_reply": "2020-07-23T05:38:22.715Z"
        }
      }
    },
    {
      "cell_type": "code",
      "source": [
        "s4.hu_moment()"
      ],
      "outputs": [
        {
          "output_type": "execute_result",
          "execution_count": 13,
          "data": {
            "text/plain": "(0.23248362379752913, 0.08443678227468078)"
          },
          "metadata": {}
        }
      ],
      "execution_count": 13,
      "metadata": {
        "collapsed": true,
        "jupyter": {
          "source_hidden": false,
          "outputs_hidden": false
        },
        "nteract": {
          "transient": {
            "deleting": false
          }
        },
        "execution": {
          "iopub.status.busy": "2020-07-23T05:38:22.738Z",
          "iopub.execute_input": "2020-07-23T05:38:22.787Z",
          "iopub.status.idle": "2020-07-23T05:38:23.215Z",
          "shell.execute_reply": "2020-07-23T05:38:23.226Z"
        }
      }
    },
    {
      "cell_type": "code",
      "source": [
        "stars = [s1.hu_moment(), s2.hu_moment(), s3.hu_moment(), s4.hu_moment()]\n",
        "circles = [c1.hu_moment(), c2.hu_moment(), c3.hu_moment()]\n",
        "plt.scatter(*zip(*stars))\n",
        "plt.scatter(*zip(*circles))\n",
        "plt.show()"
      ],
      "outputs": [
        {
          "output_type": "display_data",
          "data": {
            "text/plain": "<Figure size 432x288 with 1 Axes>",
            "image/png": "[encoded data removed]"
          },
          "metadata": {
            "needs_background": "light"
          }
        }
      ],
      "execution_count": 19,
      "metadata": {
        "collapsed": true,
        "jupyter": {
          "source_hidden": false,
          "outputs_hidden": false
        },
        "nteract": {
          "transient": {
            "deleting": false
          }
        },
        "execution": {
          "iopub.status.busy": "2020-07-23T05:42:35.122Z",
          "iopub.execute_input": "2020-07-23T05:42:35.164Z",
          "iopub.status.idle": "2020-07-23T05:42:38.470Z",
          "shell.execute_reply": "2020-07-23T05:42:38.480Z"
        }
      }
    },
    {
      "cell_type": "code",
      "source": [],
      "outputs": [],
      "execution_count": null,
      "metadata": {
        "collapsed": true,
        "jupyter": {
          "source_hidden": false,
          "outputs_hidden": false
        },
        "nteract": {
          "transient": {
            "deleting": false
          }
        }
      }
    }
  ],
  "metadata": {
    "kernel_info": {
      "name": "python37564bit19fc6ae647c641adb0275f47650d0219"
    },
    "language_info": {
      "name": "python",
      "version": "3.7.5",
      "mimetype": "text/x-python",
      "codemirror_mode": {
        "name": "ipython",
        "version": 3
      },
      "pygments_lexer": "ipython3",
      "nbconvert_exporter": "python",
      "file_extension": ".py"
    },
    "kernelspec": {
      "argv": [
        "/usr/local/bin/python3",
        "-m",
        "ipykernel_launcher",
        "-f",
        "{connection_file}"
      ],
      "display_name": "Python 3.7.5 64-bit",
      "env": {},
      "language": "python",
      "metadata": {
        "interpreter": {
          "__store": true,
          "architecture": 3,
          "displayName": "Python 3.7.5 64-bit",
          "fileHash": "ddfc44467bbd40d576685c0eb3cd4a3621d99d1c3340a0c47f651ef4539224d1a362d3fa354acad1b6fe713e24dc76ad7c0998a0b0d163f8b28a692dd4fdbb7b",
          "path": "/usr/local/bin/python3",
          "sysPrefix": "/usr/local/Cellar/python/3.7.5/Frameworks/Python.framework/Versions/3.7",
          "type": "Unknown",
          "version": {
            "prerelease": [
              "final"
            ],
            "raw": "3.7.5-final",
            "patch": 5,
            "build": [],
            "minor": 7,
            "version": "3.7.5-final",
            "major": 3,
            "options": {
              "includePrerelease": false,
              "loose": false
            },
            "loose": false
          }
        }
      },
      "name": "python37564bit19fc6ae647c641adb0275f47650d0219"
    },
    "nteract": {
      "version": "0.24.0"
    }
  },
  "nbformat": 4,
  "nbformat_minor": 0
}