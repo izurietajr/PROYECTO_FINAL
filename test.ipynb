{
  "cells": [
    {
      "cell_type": "code",
      "source": [
        "from image import Image"
      ],
      "outputs": [],
      "execution_count": 1,
      "metadata": {
        "collapsed": true,
        "jupyter": {
          "source_hidden": false,
          "outputs_hidden": false
        },
        "nteract": {
          "transient": {
            "deleting": false
          }
        },
        "execution": {
          "iopub.status.busy": "2020-07-23T03:07:46.567Z",
          "iopub.execute_input": "2020-07-23T03:07:46.572Z",
          "iopub.status.idle": "2020-07-23T03:07:46.655Z",
          "shell.execute_reply": "2020-07-23T03:07:46.711Z"
        }
      }
    },
    {
      "cell_type": "code",
      "source": [
        "file = \"/Users/jesus/Downloads/image.jpg\"\n",
        "circle1 = \"/Users/jesus/Downloads/testimages/circle1.jpg\"\n",
        "circle2 = \"/Users/jesus/Downloads/testimages/circle2.jpg\"\n",
        "circle3 = \"/Users/jesus/Downloads/testimages/circle3.jpg\"\n",
        "star1 = \"/Users/jesus/Downloads/testimages/star1.jpg\"\n",
        "star2 = \"/Users/jesus/Downloads/testimages/star2.jpg\"\n",
        "star3 = \"/Users/jesus/Downloads/testimages/star3.jpg\"\n",
        "star4 = \"/Users/jesus/Downloads/testimages/star4.jpg\""
      ],
      "outputs": [],
      "execution_count": 2,
      "metadata": {
        "collapsed": true,
        "jupyter": {
          "source_hidden": false,
          "outputs_hidden": false
        },
        "nteract": {
          "transient": {
            "deleting": false
          }
        },
        "execution": {
          "iopub.status.busy": "2020-07-23T03:07:46.669Z",
          "iopub.execute_input": "2020-07-23T03:07:46.677Z",
          "iopub.status.idle": "2020-07-23T03:07:46.689Z",
          "shell.execute_reply": "2020-07-23T03:07:46.714Z"
        }
      }
    },
    {
      "cell_type": "code",
      "source": [
        "c1 = Image()\n",
        "c1.load_file(circle1)"
      ],
      "outputs": [],
      "execution_count": 3,
      "metadata": {
        "collapsed": true,
        "jupyter": {
          "source_hidden": false,
          "outputs_hidden": false
        },
        "nteract": {
          "transient": {
            "deleting": false
          }
        },
        "execution": {
          "iopub.status.busy": "2020-07-23T03:07:46.698Z",
          "iopub.execute_input": "2020-07-23T03:07:46.704Z",
          "iopub.status.idle": "2020-07-23T03:07:46.727Z",
          "shell.execute_reply": "2020-07-23T03:07:46.732Z"
        }
      }
    },
    {
      "cell_type": "code",
      "source": [
        "c1.show()"
      ],
      "outputs": [
        {
          "output_type": "execute_result",
          "execution_count": 4,
          "data": {
            "text/plain": "<PIL.Image.Image image mode=RGB size=300x300 at 0x11E4A6990>",
            "image/png": "[encoded data removed]"
          },
          "metadata": {}
        }
      ],
      "execution_count": 4,
      "metadata": {
        "collapsed": true,
        "jupyter": {
          "source_hidden": false,
          "outputs_hidden": false
        },
        "nteract": {
          "transient": {
            "deleting": false
          }
        },
        "execution": {
          "iopub.status.busy": "2020-07-23T03:07:46.773Z",
          "iopub.execute_input": "2020-07-23T03:07:46.779Z",
          "iopub.status.idle": "2020-07-23T03:07:46.796Z",
          "shell.execute_reply": "2020-07-23T03:07:46.828Z"
        }
      }
    },
    {
      "cell_type": "code",
      "source": [
        "c2 = Image()\n",
        "c2.load_file(circle2)"
      ],
      "outputs": [],
      "execution_count": 5,
      "metadata": {
        "collapsed": true,
        "jupyter": {
          "source_hidden": false,
          "outputs_hidden": false
        },
        "nteract": {
          "transient": {
            "deleting": false
          }
        },
        "execution": {
          "iopub.status.busy": "2020-07-23T03:07:46.805Z",
          "iopub.execute_input": "2020-07-23T03:07:46.811Z",
          "iopub.status.idle": "2020-07-23T03:07:46.854Z",
          "shell.execute_reply": "2020-07-23T03:07:46.859Z"
        }
      }
    },
    {
      "cell_type": "code",
      "source": [
        "c2.show()"
      ],
      "outputs": [
        {
          "output_type": "execute_result",
          "execution_count": 6,
          "data": {
            "text/plain": "<PIL.Image.Image image mode=RGB size=300x300 at 0x11F18AC90>",
            "image/png": "[encoded data removed]"
          },
          "metadata": {}
        }
      ],
      "execution_count": 6,
      "metadata": {
        "collapsed": true,
        "jupyter": {
          "source_hidden": false,
          "outputs_hidden": false
        },
        "nteract": {
          "transient": {
            "deleting": false
          }
        },
        "execution": {
          "iopub.status.busy": "2020-07-23T03:07:46.897Z",
          "iopub.execute_input": "2020-07-23T03:07:46.901Z",
          "iopub.status.idle": "2020-07-23T03:07:46.913Z",
          "shell.execute_reply": "2020-07-23T03:07:46.924Z"
        }
      }
    },
    {
      "cell_type": "code",
      "source": [
        "c1.hu_moment()"
      ],
      "outputs": [
        {
          "output_type": "execute_result",
          "execution_count": 7,
          "data": {
            "text/plain": "(0.1591827763185205, 29789007073402.273)"
          },
          "metadata": {}
        }
      ],
      "execution_count": 7,
      "metadata": {
        "collapsed": true,
        "jupyter": {
          "source_hidden": false,
          "outputs_hidden": false
        },
        "nteract": {
          "transient": {
            "deleting": false
          }
        },
        "execution": {
          "iopub.status.busy": "2020-07-23T03:07:46.944Z",
          "iopub.execute_input": "2020-07-23T03:07:46.989Z",
          "iopub.status.idle": "2020-07-23T03:07:47.394Z",
          "shell.execute_reply": "2020-07-23T03:07:47.407Z"
        }
      }
    },
    {
      "cell_type": "code",
      "source": [
        "c2.hu_moment()"
      ],
      "outputs": [
        {
          "output_type": "execute_result",
          "execution_count": 8,
          "data": {
            "text/plain": "(0.15929992264711396, 4591186321049.744)"
          },
          "metadata": {}
        }
      ],
      "execution_count": 8,
      "metadata": {
        "collapsed": true,
        "jupyter": {
          "source_hidden": false,
          "outputs_hidden": false
        },
        "nteract": {
          "transient": {
            "deleting": false
          }
        },
        "execution": {
          "iopub.status.busy": "2020-07-23T03:07:47.470Z",
          "iopub.execute_input": "2020-07-23T03:07:47.509Z",
          "iopub.status.idle": "2020-07-23T03:07:47.889Z",
          "shell.execute_reply": "2020-07-23T03:07:47.917Z"
        }
      }
    },
    {
      "cell_type": "code",
      "source": [
        "s1 = Image()\n",
        "s1.load_file(star1)\n",
        "s2 = Image()\n",
        "s2.load_file(star2)\n",
        "s3 = Image()\n",
        "s3.load_file(star3)\n",
        "s4 = Image()\n",
        "s4.load_file(star4)"
      ],
      "outputs": [],
      "execution_count": 9,
      "metadata": {
        "collapsed": true,
        "jupyter": {
          "source_hidden": false,
          "outputs_hidden": false
        },
        "nteract": {
          "transient": {
            "deleting": false
          }
        },
        "execution": {
          "iopub.status.busy": "2020-07-23T03:07:47.896Z",
          "iopub.execute_input": "2020-07-23T03:07:47.903Z",
          "iopub.status.idle": "2020-07-23T03:07:48.176Z",
          "shell.execute_reply": "2020-07-23T03:07:48.182Z"
        }
      }
    },
    {
      "cell_type": "code",
      "source": [
        "s1.hu_moment()"
      ],
      "outputs": [
        {
          "output_type": "execute_result",
          "execution_count": 10,
          "data": {
            "text/plain": "(0.2162437035817964, 12970072848456.992)"
          },
          "metadata": {}
        }
      ],
      "execution_count": 10,
      "metadata": {
        "collapsed": true,
        "jupyter": {
          "source_hidden": false,
          "outputs_hidden": false
        },
        "nteract": {
          "transient": {
            "deleting": false
          }
        },
        "execution": {
          "iopub.status.busy": "2020-07-23T03:07:48.228Z",
          "iopub.execute_input": "2020-07-23T03:07:48.274Z",
          "iopub.status.idle": "2020-07-23T03:07:48.667Z",
          "shell.execute_reply": "2020-07-23T03:07:48.678Z"
        }
      }
    },
    {
      "cell_type": "code",
      "source": [
        "s2.hu_moment()"
      ],
      "outputs": [
        {
          "output_type": "execute_result",
          "execution_count": 11,
          "data": {
            "text/plain": "(0.21685851808651274, 2471380053914.6753)"
          },
          "metadata": {}
        }
      ],
      "execution_count": 11,
      "metadata": {
        "collapsed": true,
        "jupyter": {
          "source_hidden": false,
          "outputs_hidden": false
        },
        "nteract": {
          "transient": {
            "deleting": false
          }
        },
        "execution": {
          "iopub.status.busy": "2020-07-23T03:07:48.721Z",
          "iopub.execute_input": "2020-07-23T03:07:48.759Z",
          "iopub.status.idle": "2020-07-23T03:07:49.150Z",
          "shell.execute_reply": "2020-07-23T03:07:49.162Z"
        }
      }
    },
    {
      "cell_type": "code",
      "source": [
        "s3.hu_moment()"
      ],
      "outputs": [
        {
          "output_type": "execute_result",
          "execution_count": 12,
          "data": {
            "text/plain": "(0.2162170223369867, 12711895188463.312)"
          },
          "metadata": {}
        }
      ],
      "execution_count": 12,
      "metadata": {
        "collapsed": true,
        "jupyter": {
          "source_hidden": false,
          "outputs_hidden": false
        },
        "nteract": {
          "transient": {
            "deleting": false
          }
        },
        "execution": {
          "iopub.status.busy": "2020-07-23T03:07:49.208Z",
          "iopub.execute_input": "2020-07-23T03:07:49.253Z",
          "iopub.status.idle": "2020-07-23T03:07:49.639Z",
          "shell.execute_reply": "2020-07-23T03:07:49.644Z"
        }
      }
    },
    {
      "cell_type": "code",
      "source": [
        "s4.hu_moment()"
      ],
      "outputs": [
        {
          "output_type": "execute_result",
          "execution_count": 13,
          "data": {
            "text/plain": "(0.23248362379752913, 5075888301723.075)"
          },
          "metadata": {}
        }
      ],
      "execution_count": 13,
      "metadata": {
        "collapsed": true,
        "jupyter": {
          "source_hidden": false,
          "outputs_hidden": false
        },
        "nteract": {
          "transient": {
            "deleting": false
          }
        },
        "execution": {
          "iopub.status.busy": "2020-07-23T03:07:49.692Z",
          "iopub.execute_input": "2020-07-23T03:07:49.729Z",
          "iopub.status.idle": "2020-07-23T03:07:50.116Z",
          "shell.execute_reply": "2020-07-23T03:07:50.127Z"
        }
      }
    },
    {
      "cell_type": "code",
      "source": [],
      "outputs": [],
      "execution_count": null,
      "metadata": {
        "collapsed": true,
        "jupyter": {
          "source_hidden": false,
          "outputs_hidden": false
        },
        "nteract": {
          "transient": {
            "deleting": false
          }
        }
      }
    }
  ],
  "metadata": {
    "kernel_info": {
      "name": "python37564bit19fc6ae647c641adb0275f47650d0219"
    },
    "language_info": {
      "name": "python",
      "version": "3.7.5",
      "mimetype": "text/x-python",
      "codemirror_mode": {
        "name": "ipython",
        "version": 3
      },
      "pygments_lexer": "ipython3",
      "nbconvert_exporter": "python",
      "file_extension": ".py"
    },
    "kernelspec": {
      "argv": [
        "/usr/local/bin/python3",
        "-m",
        "ipykernel_launcher",
        "-f",
        "{connection_file}"
      ],
      "display_name": "Python 3.7.5 64-bit",
      "env": {},
      "language": "python",
      "metadata": {
        "interpreter": {
          "__store": true,
          "architecture": 3,
          "displayName": "Python 3.7.5 64-bit",
          "fileHash": "ddfc44467bbd40d576685c0eb3cd4a3621d99d1c3340a0c47f651ef4539224d1a362d3fa354acad1b6fe713e24dc76ad7c0998a0b0d163f8b28a692dd4fdbb7b",
          "path": "/usr/local/bin/python3",
          "sysPrefix": "/usr/local/Cellar/python/3.7.5/Frameworks/Python.framework/Versions/3.7",
          "type": "Unknown",
          "version": {
            "prerelease": [
              "final"
            ],
            "raw": "3.7.5-final",
            "patch": 5,
            "build": [],
            "minor": 7,
            "version": "3.7.5-final",
            "major": 3,
            "options": {
              "includePrerelease": false,
              "loose": false
            },
            "loose": false
          }
        }
      },
      "name": "python37564bit19fc6ae647c641adb0275f47650d0219"
    },
    "nteract": {
      "version": "0.24.0"
    }
  },
  "nbformat": 4,
  "nbformat_minor": 0
}