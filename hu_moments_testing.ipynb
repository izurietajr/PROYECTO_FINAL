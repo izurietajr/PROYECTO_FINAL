{
  "cells": [
    {
      "cell_type": "markdown",
      "source": [
        "# Momentos invariantes de Hu\n",
        "\n",
        "Pruebas de la implementación de momentos invariantes en la biblioteca Image, sobre diferentes imágenes y algunas de sus transformaciones simples.\n",
        "\n",
        "Primeramente importaremos algunas bibliotecas que usaremos, el archivo image provee algunas operaciones básicas sobre imágenes, puede encontrarse [aquí](link), también usaremos matplotlib para visualizar los momentos obtenidos para cada imagen."
      ],
      "metadata": {
        "nteract": {
          "transient": {
            "deleting": false
          }
        }
      }
    },
    {
      "cell_type": "code",
      "source": [
        "from image import Image\n",
        "import matplotlib.pyplot as plt"
      ],
      "outputs": [],
      "execution_count": 111,
      "metadata": {
        "collapsed": true,
        "jupyter": {
          "source_hidden": false,
          "outputs_hidden": false
        },
        "nteract": {
          "transient": {
            "deleting": false
          }
        },
        "execution": {
          "iopub.status.busy": "2020-07-24T03:26:32.284Z",
          "iopub.execute_input": "2020-07-24T03:26:32.290Z",
          "iopub.status.idle": "2020-07-24T03:26:32.301Z",
          "shell.execute_reply": "2020-07-24T03:26:32.307Z"
        }
      }
    },
    {
      "cell_type": "markdown",
      "source": [
        "Cargamos algunas imágenes básicas de prueba para comparar cómo varían sus momentos al variar sus tamaños y posición."
      ],
      "metadata": {
        "nteract": {
          "transient": {
            "deleting": false
          }
        }
      }
    },
    {
      "cell_type": "code",
      "source": [
        "circle1 = \"./testimages/circle1.jpg\"\n",
        "circle2 = \"./testimages/circle2.jpg\"\n",
        "circle3 = \"./testimages/circle3.jpg\"\n",
        "star1 = \"./testimages/star1.jpg\"\n",
        "star2 = \"./testimages/star2.jpg\"\n",
        "star3 = \"./testimages/star3.jpg\"\n",
        "star4 = \"./testimages/star4.jpg\""
      ],
      "outputs": [],
      "execution_count": 112,
      "metadata": {
        "collapsed": true,
        "jupyter": {
          "source_hidden": false,
          "outputs_hidden": false
        },
        "nteract": {
          "transient": {
            "deleting": false
          }
        },
        "execution": {
          "iopub.status.busy": "2020-07-24T03:26:33.726Z",
          "iopub.execute_input": "2020-07-24T03:26:33.733Z",
          "iopub.status.idle": "2020-07-24T03:26:33.744Z",
          "shell.execute_reply": "2020-07-24T03:26:33.750Z"
        }
      }
    },
    {
      "cell_type": "code",
      "source": [
        "c1 = Image()\n",
        "c1.load_file(circle1)\n",
        "c2 = Image()\n",
        "c2.load_file(circle2)\n",
        "c3 = Image()\n",
        "c3.load_file(circle3)"
      ],
      "outputs": [],
      "execution_count": 113,
      "metadata": {
        "collapsed": true,
        "jupyter": {
          "source_hidden": false,
          "outputs_hidden": false
        },
        "nteract": {
          "transient": {
            "deleting": false
          }
        },
        "execution": {
          "iopub.status.busy": "2020-07-24T03:26:34.279Z",
          "iopub.execute_input": "2020-07-24T03:26:34.285Z",
          "iopub.status.idle": "2020-07-24T03:26:34.631Z",
          "shell.execute_reply": "2020-07-24T03:26:34.639Z"
        }
      }
    },
    {
      "cell_type": "code",
      "source": [
        "c1.show()"
      ],
      "outputs": [
        {
          "output_type": "execute_result",
          "execution_count": 114,
          "data": {
            "text/plain": "<PIL.Image.Image image mode=RGB size=300x300 at 0x111EAAE10>",
            "image/png": "[encoded data removed]"
          },
          "metadata": {}
        }
      ],
      "execution_count": 114,
      "metadata": {
        "collapsed": true,
        "jupyter": {
          "source_hidden": false,
          "outputs_hidden": false
        },
        "nteract": {
          "transient": {
            "deleting": false
          }
        },
        "execution": {
          "iopub.status.busy": "2020-07-24T03:26:34.853Z",
          "iopub.execute_input": "2020-07-24T03:26:34.860Z",
          "iopub.status.idle": "2020-07-24T03:26:34.876Z",
          "shell.execute_reply": "2020-07-24T03:26:34.890Z"
        }
      }
    },
    {
      "cell_type": "code",
      "source": [
        "c2.show()"
      ],
      "outputs": [
        {
          "output_type": "execute_result",
          "execution_count": 115,
          "data": {
            "text/plain": "<PIL.Image.Image image mode=RGB size=300x300 at 0x11872F350>",
            "image/png": "[encoded data removed]"
          },
          "metadata": {}
        }
      ],
      "execution_count": 115,
      "metadata": {
        "collapsed": true,
        "jupyter": {
          "source_hidden": false,
          "outputs_hidden": false
        },
        "nteract": {
          "transient": {
            "deleting": false
          }
        },
        "execution": {
          "iopub.status.busy": "2020-07-24T03:26:35.469Z",
          "iopub.execute_input": "2020-07-24T03:26:35.476Z",
          "iopub.status.idle": "2020-07-24T03:26:35.491Z",
          "shell.execute_reply": "2020-07-24T03:26:35.506Z"
        }
      }
    },
    {
      "cell_type": "code",
      "source": [
        "print(c1.hu_moments())\n",
        "print(c2.hu_moments())"
      ],
      "outputs": [
        {
          "output_type": "stream",
          "name": "stdout",
          "text": [
            "(0.1591827763185205, 4.953591464561986e-10)\n",
            "(0.15929992264711396, 2.1787375103189415e-09)\n"
          ]
        }
      ],
      "execution_count": 116,
      "metadata": {
        "collapsed": true,
        "jupyter": {
          "source_hidden": false,
          "outputs_hidden": false
        },
        "nteract": {
          "transient": {
            "deleting": false
          }
        },
        "execution": {
          "iopub.status.busy": "2020-07-24T03:26:36.192Z",
          "iopub.execute_input": "2020-07-24T03:26:36.228Z",
          "iopub.status.idle": "2020-07-24T03:26:37.146Z",
          "shell.execute_reply": "2020-07-24T03:26:37.174Z"
        }
      }
    },
    {
      "cell_type": "markdown",
      "source": [
        "Comprobamos que para una transformación de escalado, los momentos invariantes son bastante similares para ambas imágenes."
      ],
      "metadata": {
        "nteract": {
          "transient": {
            "deleting": false
          }
        }
      }
    },
    {
      "cell_type": "code",
      "source": [
        "s1 = Image()\n",
        "s1.load_file(star1)\n",
        "s2 = Image()\n",
        "s2.load_file(star2)\n",
        "s3 = Image()\n",
        "s3.load_file(star3)\n",
        "s4 = Image()\n",
        "s4.load_file(star4)"
      ],
      "outputs": [],
      "execution_count": 117,
      "metadata": {
        "collapsed": true,
        "jupyter": {
          "source_hidden": false,
          "outputs_hidden": false
        },
        "nteract": {
          "transient": {
            "deleting": false
          }
        },
        "execution": {
          "iopub.status.busy": "2020-07-24T03:26:37.155Z",
          "iopub.execute_input": "2020-07-24T03:26:37.161Z",
          "iopub.status.idle": "2020-07-24T03:26:37.453Z",
          "shell.execute_reply": "2020-07-24T03:26:37.461Z"
        }
      }
    },
    {
      "cell_type": "code",
      "source": [
        "s1.show()"
      ],
      "outputs": [
        {
          "output_type": "execute_result",
          "execution_count": 118,
          "data": {
            "text/plain": "<PIL.Image.Image image mode=RGB size=300x300 at 0x111BED650>",
            "image/png": "[encoded data removed]"
          },
          "metadata": {}
        }
      ],
      "execution_count": 118,
      "metadata": {
        "collapsed": true,
        "jupyter": {
          "source_hidden": false,
          "outputs_hidden": false
        },
        "nteract": {
          "transient": {
            "deleting": false
          }
        },
        "execution": {
          "iopub.status.busy": "2020-07-24T03:26:37.497Z",
          "iopub.execute_input": "2020-07-24T03:26:37.504Z",
          "iopub.status.idle": "2020-07-24T03:26:37.518Z",
          "shell.execute_reply": "2020-07-24T03:26:37.533Z"
        }
      }
    },
    {
      "cell_type": "code",
      "source": [
        "stars = [s1, s2, s3, s4]\n",
        "circles = [c1, c2, c3]\n",
        "\n",
        "st_moments = map(lambda s: s.hu_moments(), stars)\n",
        "ci_moments = map(lambda s: s.hu_moments(), circles)\n",
        "\n",
        "plt.scatter(*zip(*st_moments))\n",
        "plt.scatter(*zip(*ci_moments))\n",
        "plt.show()"
      ],
      "outputs": [
        {
          "output_type": "display_data",
          "data": {
            "text/plain": "<Figure size 432x288 with 1 Axes>",
            "image/png": "[encoded data removed]"
          },
          "metadata": {
            "needs_background": "light"
          }
        }
      ],
      "execution_count": 119,
      "metadata": {
        "collapsed": true,
        "jupyter": {
          "source_hidden": false,
          "outputs_hidden": false
        },
        "nteract": {
          "transient": {
            "deleting": false
          }
        },
        "execution": {
          "iopub.status.busy": "2020-07-24T03:26:37.705Z",
          "iopub.execute_input": "2020-07-24T03:26:37.748Z",
          "iopub.status.idle": "2020-07-24T03:26:41.257Z",
          "shell.execute_reply": "2020-07-24T03:26:41.272Z"
        }
      }
    },
    {
      "cell_type": "markdown",
      "source": [
        "Probamos a modificar el color de una de las imágenes de prueba, invertiremos el color de la estrella rotada para comprobar si los momentos se alejan de los valores de las demás imágenes de fondo negro. Para esto creamos una copia y usamos la función map_over para modificar los valores de sus pixeles."
      ],
      "metadata": {
        "nteract": {
          "transient": {
            "deleting": false
          }
        }
      }
    },
    {
      "cell_type": "code",
      "source": [
        "s5 = s3\n",
        "s5.map_over(lambda r, g, b: (255-r, 255-g, 255-b))\n",
        "s5.show()"
      ],
      "outputs": [
        {
          "output_type": "execute_result",
          "execution_count": 120,
          "data": {
            "text/plain": "<PIL.Image.Image image mode=RGB size=300x300 at 0x113E9AB90>",
            "image/png": "[encoded data removed]"
          },
          "metadata": {}
        }
      ],
      "execution_count": 120,
      "metadata": {
        "collapsed": true,
        "jupyter": {
          "source_hidden": false,
          "outputs_hidden": false
        },
        "nteract": {
          "transient": {
            "deleting": false
          }
        },
        "execution": {
          "iopub.status.busy": "2020-07-24T03:26:41.295Z",
          "iopub.execute_input": "2020-07-24T03:26:41.365Z",
          "iopub.status.idle": "2020-07-24T03:26:41.390Z",
          "shell.execute_reply": "2020-07-24T03:26:41.402Z"
        }
      }
    },
    {
      "cell_type": "code",
      "source": [
        "stars = [s1, s2, s3, s4, s5]\n",
        "moments = map(lambda s: s.hu_moments(), stars)\n",
        "plt.scatter(*zip(*moments))\n",
        "plt.show()"
      ],
      "outputs": [
        {
          "output_type": "display_data",
          "data": {
            "text/plain": "<Figure size 432x288 with 1 Axes>",
            "image/png": "[encoded data removed]"
          },
          "metadata": {
            "needs_background": "light"
          }
        }
      ],
      "execution_count": 121,
      "metadata": {
        "collapsed": true,
        "jupyter": {
          "source_hidden": false,
          "outputs_hidden": false
        },
        "nteract": {
          "transient": {
            "deleting": false
          }
        },
        "execution": {
          "iopub.status.busy": "2020-07-24T03:26:41.433Z",
          "iopub.execute_input": "2020-07-24T03:26:41.472Z",
          "iopub.status.idle": "2020-07-24T03:26:44.031Z",
          "shell.execute_reply": "2020-07-24T03:26:44.042Z"
        }
      }
    },
    {
      "cell_type": "markdown",
      "source": [
        "La imagen con colores invertidos se aleja un poco del grupo, sin embargo la destancia es mejor a la distancia que tienen con la imagen distorcinada."
      ],
      "metadata": {
        "nteract": {
          "transient": {
            "deleting": false
          }
        }
      }
    },
    {
      "cell_type": "code",
      "source": [],
      "outputs": [],
      "execution_count": null,
      "metadata": {
        "collapsed": true,
        "jupyter": {
          "source_hidden": false,
          "outputs_hidden": false
        },
        "nteract": {
          "transient": {
            "deleting": false
          }
        }
      }
    },
    {
      "cell_type": "code",
      "source": [],
      "outputs": [],
      "execution_count": null,
      "metadata": {
        "collapsed": true,
        "jupyter": {
          "source_hidden": false,
          "outputs_hidden": false
        },
        "nteract": {
          "transient": {
            "deleting": false
          }
        }
      }
    }
  ],
  "metadata": {
    "kernel_info": {
      "name": "python37564bit19fc6ae647c641adb0275f47650d0219"
    },
    "language_info": {
      "name": "python",
      "version": "3.7.5",
      "mimetype": "text/x-python",
      "codemirror_mode": {
        "name": "ipython",
        "version": 3
      },
      "pygments_lexer": "ipython3",
      "nbconvert_exporter": "python",
      "file_extension": ".py"
    },
    "kernelspec": {
      "argv": [
        "/usr/local/bin/python3",
        "-m",
        "ipykernel_launcher",
        "-f",
        "{connection_file}"
      ],
      "display_name": "Python 3.7.5 64-bit",
      "env": {},
      "language": "python",
      "metadata": {
        "interpreter": {
          "__store": true,
          "architecture": 3,
          "displayName": "Python 3.7.5 64-bit",
          "fileHash": "ddfc44467bbd40d576685c0eb3cd4a3621d99d1c3340a0c47f651ef4539224d1a362d3fa354acad1b6fe713e24dc76ad7c0998a0b0d163f8b28a692dd4fdbb7b",
          "path": "/usr/local/bin/python3",
          "sysPrefix": "/usr/local/Cellar/python/3.7.5/Frameworks/Python.framework/Versions/3.7",
          "type": "Unknown",
          "version": {
            "prerelease": [
              "final"
            ],
            "raw": "3.7.5-final",
            "patch": 5,
            "build": [],
            "minor": 7,
            "version": "3.7.5-final",
            "major": 3,
            "options": {
              "includePrerelease": false,
              "loose": false
            },
            "loose": false
          }
        }
      },
      "name": "python37564bit19fc6ae647c641adb0275f47650d0219"
    },
    "nteract": {
      "version": "0.24.0"
    }
  },
  "nbformat": 4,
  "nbformat_minor": 0
}