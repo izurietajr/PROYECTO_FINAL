{
  "cells": [
    {
      "cell_type": "markdown",
      "source": [
        "# Obtención de imágenes de prueba\n",
        "\n",
        "Para definir los tipos de hojas que clasificaremos, necesitaremos recolectar información sobre su forma, usamos algunas imágenes de ejemplo para encontrar puntos iniciales que nos servirán de referencia para comparar los momentos de una imagen de prueba."
      ],
      "metadata": {
        "nteract": {
          "transient": {
            "deleting": false
          }
        }
      }
    },
    {
      "cell_type": "code",
      "source": [
        "from image import Image\n",
        "import matplotlib.pyplot as plt"
      ],
      "outputs": [],
      "execution_count": 1,
      "metadata": {
        "collapsed": true,
        "jupyter": {
          "source_hidden": false,
          "outputs_hidden": false
        },
        "nteract": {
          "transient": {
            "deleting": false
          }
        },
        "execution": {
          "iopub.status.busy": "2020-07-26T06:37:51.195Z",
          "iopub.execute_input": "2020-07-26T06:37:51.201Z",
          "iopub.status.idle": "2020-07-26T06:37:51.367Z",
          "shell.execute_reply": "2020-07-26T06:37:51.480Z"
        }
      }
    },
    {
      "cell_type": "markdown",
      "source": [
        "Cargamos algunas imágenes básicas de prueba para comparar cómo varían sus momentos al variar sus tamaños y posición."
      ],
      "metadata": {
        "nteract": {
          "transient": {
            "deleting": false
          }
        }
      }
    },
    {
      "cell_type": "code",
      "source": [
        "lanceolada = \"./testimages/leafs/lanceolada.jpg\"\n",
        "flabelada = \"./testimages/leafs/flabelada.jpg\"\n",
        "acumitada = \"./testimages/leafs/acumitada.jpg\"\n",
        "orbicular = \"./testimages/leafs/orbicular.jpg\"\n",
        "romboide = \"./testimages/leafs/romboide.jpg\"\n",
        "ovada = \"./testimages/leafs/ovada.jpg\"\n",
        "astada = \"./testimages/leafs/astada.jpg\"\n",
        "palmeada = \"./testimages/leafs/palmeada.jpg\"\n",
        "sagitada = \"./testimages/leafs/sagitada.jpg\"\n",
        "\n",
        "leafs =[flabelada,acumitada,orbicular,romboide,ovada,astada,palmeada,sagitada]\n"
      ],
      "outputs": [],
      "execution_count": 2,
      "metadata": {
        "collapsed": true,
        "jupyter": {
          "source_hidden": false,
          "outputs_hidden": false
        },
        "nteract": {
          "transient": {
            "deleting": false
          }
        },
        "execution": {
          "iopub.status.busy": "2020-07-26T06:37:51.378Z",
          "iopub.execute_input": "2020-07-26T06:37:51.386Z",
          "iopub.status.idle": "2020-07-26T06:37:51.400Z",
          "shell.execute_reply": "2020-07-26T06:37:51.484Z"
        }
      }
    },
    {
      "cell_type": "code",
      "source": [
        "ll = Image()\n",
        "ll.load_file(lanceolada)"
      ],
      "outputs": [],
      "execution_count": 3,
      "metadata": {
        "collapsed": true,
        "jupyter": {
          "source_hidden": false,
          "outputs_hidden": false
        },
        "nteract": {
          "transient": {
            "deleting": false
          }
        },
        "execution": {
          "iopub.status.busy": "2020-07-26T06:37:51.412Z",
          "iopub.execute_input": "2020-07-26T06:37:51.421Z",
          "iopub.status.idle": "2020-07-26T06:37:51.435Z",
          "shell.execute_reply": "2020-07-26T06:37:51.489Z"
        }
      }
    },
    {
      "cell_type": "code",
      "source": [
        "ll.show()"
      ],
      "outputs": [
        {
          "output_type": "execute_result",
          "execution_count": 4,
          "data": {
            "text/plain": "<PIL.Image.Image image mode=RGB size=210x84 at 0x10E411FD0>",
            "image/png": "[encoded data removed]"
          },
          "metadata": {}
        }
      ],
      "execution_count": 4,
      "metadata": {
        "collapsed": true,
        "jupyter": {
          "source_hidden": false,
          "outputs_hidden": false
        },
        "nteract": {
          "transient": {
            "deleting": false
          }
        },
        "execution": {
          "iopub.status.busy": "2020-07-26T06:37:51.447Z",
          "iopub.execute_input": "2020-07-26T06:37:51.454Z",
          "iopub.status.idle": "2020-07-26T06:37:51.470Z",
          "shell.execute_reply": "2020-07-26T06:37:51.493Z"
        }
      }
    },
    {
      "cell_type": "code",
      "source": [
        "print(ll.hu_moments())"
      ],
      "outputs": [
        {
          "output_type": "stream",
          "name": "stdout",
          "text": [
            "(0.3999693426853134, 0.08241080043135868)\n"
          ]
        }
      ],
      "execution_count": 5,
      "metadata": {
        "collapsed": true,
        "jupyter": {
          "source_hidden": false,
          "outputs_hidden": false
        },
        "nteract": {
          "transient": {
            "deleting": false
          }
        },
        "execution": {
          "iopub.status.busy": "2020-07-26T06:37:51.510Z",
          "iopub.execute_input": "2020-07-26T06:37:51.529Z",
          "iopub.status.idle": "2020-07-26T06:37:51.544Z",
          "shell.execute_reply": "2020-07-26T06:37:51.559Z"
        }
      }
    },
    {
      "cell_type": "code",
      "source": [
        "lle = ll\n",
        "bound = lambda x: 255 if x > 200 else 1\n",
        "lle.map_over(lambda r, g, b: (bound(r), bound(r), bound(r)))\n",
        "lle.show()"
      ],
      "outputs": [
        {
          "output_type": "execute_result",
          "execution_count": 6,
          "data": {
            "text/plain": "<PIL.Image.Image image mode=RGB size=210x84 at 0x10E621250>",
            "image/png": "[encoded data removed]"
          },
          "metadata": {}
        }
      ],
      "execution_count": 6,
      "metadata": {
        "collapsed": true,
        "jupyter": {
          "source_hidden": false,
          "outputs_hidden": false
        },
        "nteract": {
          "transient": {
            "deleting": false
          }
        },
        "execution": {
          "iopub.status.busy": "2020-07-26T06:37:51.570Z",
          "iopub.execute_input": "2020-07-26T06:37:51.576Z",
          "iopub.status.idle": "2020-07-26T06:37:51.590Z",
          "shell.execute_reply": "2020-07-26T06:37:51.607Z"
        }
      }
    },
    {
      "cell_type": "code",
      "source": [
        "print(ll.hu_moments())"
      ],
      "outputs": [
        {
          "output_type": "stream",
          "name": "stdout",
          "text": [
            "(0.37909044343709997, 0.07376957553180492)\n"
          ]
        }
      ],
      "execution_count": 7,
      "metadata": {
        "collapsed": true,
        "jupyter": {
          "source_hidden": false,
          "outputs_hidden": false
        },
        "nteract": {
          "transient": {
            "deleting": false
          }
        },
        "execution": {
          "iopub.status.busy": "2020-07-26T06:37:51.629Z",
          "iopub.execute_input": "2020-07-26T06:37:51.675Z",
          "iopub.status.idle": "2020-07-26T06:37:51.689Z",
          "shell.execute_reply": "2020-07-26T06:37:51.719Z"
        }
      }
    },
    {
      "cell_type": "markdown",
      "source": [
        "Realizaremos este proceso para cada una de las imágenes de prueba."
      ],
      "metadata": {
        "nteract": {
          "transient": {
            "deleting": false
          }
        }
      }
    },
    {
      "cell_type": "code",
      "source": [
        "def binarize(url):\n",
        "    ll = Image()\n",
        "    ll.load_file(url)\n",
        "    ll.map_over(lambda r, g, b: (bound(r), bound(r), bound(r)))\n",
        "    return ll\n",
        "    \n",
        "binary_leafs = map(binarize, leafs)\n",
        "hu_moments = list(map(lambda x: x.hu_moments(), binary_leafs))"
      ],
      "outputs": [],
      "execution_count": 8,
      "metadata": {
        "collapsed": true,
        "jupyter": {
          "source_hidden": false,
          "outputs_hidden": false
        },
        "nteract": {
          "transient": {
            "deleting": false
          }
        },
        "execution": {
          "iopub.status.busy": "2020-07-26T06:37:51.699Z",
          "iopub.execute_input": "2020-07-26T06:37:51.705Z",
          "iopub.status.idle": "2020-07-26T06:37:53.534Z",
          "shell.execute_reply": "2020-07-26T06:37:53.555Z"
        }
      }
    },
    {
      "cell_type": "code",
      "source": [
        "plt.scatter(*zip(*hu_moments))\n",
        "plt.show()"
      ],
      "outputs": [
        {
          "output_type": "display_data",
          "data": {
            "text/plain": "<Figure size 432x288 with 1 Axes>",
            "image/png": "[encoded data removed]"
          },
          "metadata": {
            "needs_background": "light"
          }
        }
      ],
      "execution_count": 9,
      "metadata": {
        "collapsed": true,
        "jupyter": {
          "source_hidden": false,
          "outputs_hidden": false
        },
        "nteract": {
          "transient": {
            "deleting": false
          }
        },
        "execution": {
          "iopub.status.busy": "2020-07-26T06:37:53.548Z",
          "iopub.execute_input": "2020-07-26T06:37:53.567Z",
          "iopub.status.idle": "2020-07-26T06:37:53.708Z",
          "shell.execute_reply": "2020-07-26T06:37:53.744Z"
        }
      }
    },
    {
      "cell_type": "markdown",
      "source": [
        "La gráfica nos muestra la disposición de los momentos invariantes para cada imagen, ahora compararemos con una imagen de prueba."
      ],
      "metadata": {
        "nteract": {
          "transient": {
            "deleting": false
          }
        }
      }
    },
    {
      "cell_type": "code",
      "source": [
        "test = \"./testimages/leafs/test.jpg\"\n",
        "tl = binarize(test)\n",
        "tl.show()"
      ],
      "outputs": [
        {
          "output_type": "execute_result",
          "execution_count": 10,
          "data": {
            "text/plain": "<PIL.Image.Image image mode=RGB size=554x814 at 0x10E403BD0>",
            "image/png": "[encoded data removed]"
          },
          "metadata": {}
        }
      ],
      "execution_count": 10,
      "metadata": {
        "collapsed": true,
        "jupyter": {
          "source_hidden": false,
          "outputs_hidden": false
        },
        "nteract": {
          "transient": {
            "deleting": false
          }
        },
        "execution": {
          "iopub.status.busy": "2020-07-26T06:37:53.719Z",
          "iopub.execute_input": "2020-07-26T06:37:53.726Z",
          "iopub.status.idle": "2020-07-26T06:37:54.644Z",
          "shell.execute_reply": "2020-07-26T06:37:54.660Z"
        }
      }
    },
    {
      "cell_type": "code",
      "source": [
        "tm = tl.hu_moments()"
      ],
      "outputs": [],
      "execution_count": 11,
      "metadata": {
        "collapsed": true,
        "jupyter": {
          "source_hidden": false,
          "outputs_hidden": false
        },
        "nteract": {
          "transient": {
            "deleting": false
          }
        },
        "execution": {
          "iopub.status.busy": "2020-07-26T06:37:54.695Z",
          "iopub.execute_input": "2020-07-26T06:37:54.735Z",
          "iopub.status.idle": "2020-07-26T06:37:57.191Z",
          "shell.execute_reply": "2020-07-26T06:37:57.199Z"
        }
      }
    },
    {
      "cell_type": "code",
      "source": [
        "def get_moments(url):\n",
        "    im = Image()\n",
        "    im.load_file(url)\n",
        "    return (url, im.hu_moments())\n",
        "  \n",
        "get_position = lambda x: x[1]\n",
        "\n",
        "hu_name_moments = list(map(get_moments, leafs))\n",
        "hu_moments = list(map(get_position, hu_name_moments))"
      ],
      "outputs": [],
      "execution_count": 12,
      "metadata": {
        "collapsed": true,
        "jupyter": {
          "source_hidden": false,
          "outputs_hidden": false
        },
        "nteract": {
          "transient": {
            "deleting": false
          }
        },
        "execution": {
          "iopub.status.busy": "2020-07-26T06:37:57.215Z",
          "iopub.execute_input": "2020-07-26T06:37:57.222Z",
          "iopub.status.idle": "2020-07-26T06:37:58.908Z",
          "shell.execute_reply": "2020-07-26T06:37:58.931Z"
        }
      }
    },
    {
      "cell_type": "markdown",
      "source": [
        "Agregamos la imagen de prueba a la gráfica."
      ],
      "metadata": {
        "nteract": {
          "transient": {
            "deleting": false
          }
        }
      }
    },
    {
      "cell_type": "code",
      "source": [
        "plt.scatter(*zip(*hu_moments))\n",
        "plt.scatter(*tm)\n",
        "plt.show()"
      ],
      "outputs": [
        {
          "output_type": "display_data",
          "data": {
            "text/plain": "<Figure size 432x288 with 1 Axes>",
            "image/png": "[encoded data removed]"
          },
          "metadata": {
            "needs_background": "light"
          }
        }
      ],
      "execution_count": 13,
      "metadata": {
        "collapsed": true,
        "jupyter": {
          "source_hidden": false,
          "outputs_hidden": false
        },
        "nteract": {
          "transient": {
            "deleting": false
          }
        },
        "execution": {
          "iopub.status.busy": "2020-07-26T06:37:58.918Z",
          "iopub.execute_input": "2020-07-26T06:37:58.924Z",
          "iopub.status.idle": "2020-07-26T06:37:59.071Z",
          "shell.execute_reply": "2020-07-26T06:37:59.102Z"
        }
      }
    },
    {
      "cell_type": "markdown",
      "source": [
        "Graficamos mostrando los nombres de los archivos"
      ],
      "metadata": {
        "nteract": {
          "transient": {
            "deleting": false
          }
        }
      }
    },
    {
      "cell_type": "code",
      "source": [
        "plt.scatter(*zip(*hu_moments))\n",
        "plt.scatter(*tm)\n",
        "\n",
        "for label, moments in hu_name_moments:\n",
        "    plt.annotate(label, moments)\n",
        "    \n",
        "url, moments = get_moments(leafs[1])\n",
        "print(url)\n",
        "plt.scatter(*moments)\n",
        "plt.annotate(\"test\", tm)\n",
        "plt.show()"
      ],
      "outputs": [
        {
          "output_type": "stream",
          "name": "stdout",
          "text": [
            "./testimages/leafs/acumitada.jpg\n"
          ]
        },
        {
          "output_type": "display_data",
          "data": {
            "text/plain": "<Figure size 432x288 with 1 Axes>",
            "image/png": "[encoded data removed]"
          },
          "metadata": {
            "needs_background": "light"
          }
        }
      ],
      "execution_count": 14,
      "metadata": {
        "collapsed": true,
        "jupyter": {
          "source_hidden": false,
          "outputs_hidden": false
        },
        "nteract": {
          "transient": {
            "deleting": false
          }
        },
        "execution": {
          "iopub.status.busy": "2020-07-26T06:37:59.090Z",
          "iopub.execute_input": "2020-07-26T06:37:59.096Z",
          "iopub.status.idle": "2020-07-26T06:37:59.409Z",
          "shell.execute_reply": "2020-07-26T06:37:59.421Z"
        }
      }
    },
    {
      "cell_type": "markdown",
      "source": [
        "A simple vista, la imagen se encuentra cerca de la forma orbicular, lo cual no es exacto, sin embargo la forma no se aleja mucho del resultado,  con más imágenes de prueba y un mejor preprocesamiento de la imagen se podrían obtener mejores resultados."
      ],
      "metadata": {
        "nteract": {
          "transient": {
            "deleting": false
          }
        }
      }
    }
  ],
  "metadata": {
    "kernel_info": {
      "name": "python37564bit19fc6ae647c641adb0275f47650d0219"
    },
    "language_info": {
      "name": "python",
      "version": "3.7.5",
      "mimetype": "text/x-python",
      "codemirror_mode": {
        "name": "ipython",
        "version": 3
      },
      "pygments_lexer": "ipython3",
      "nbconvert_exporter": "python",
      "file_extension": ".py"
    },
    "kernelspec": {
      "argv": [
        "/usr/local/bin/python3",
        "-m",
        "ipykernel_launcher",
        "-f",
        "{connection_file}"
      ],
      "display_name": "Python 3.7.5 64-bit",
      "env": {},
      "language": "python",
      "metadata": {
        "interpreter": {
          "__store": true,
          "architecture": 3,
          "displayName": "Python 3.7.5 64-bit",
          "fileHash": "ddfc44467bbd40d576685c0eb3cd4a3621d99d1c3340a0c47f651ef4539224d1a362d3fa354acad1b6fe713e24dc76ad7c0998a0b0d163f8b28a692dd4fdbb7b",
          "path": "/usr/local/bin/python3",
          "sysPrefix": "/usr/local/Cellar/python/3.7.5/Frameworks/Python.framework/Versions/3.7",
          "type": "Unknown",
          "version": {
            "prerelease": [
              "final"
            ],
            "raw": "3.7.5-final",
            "patch": 5,
            "build": [],
            "minor": 7,
            "version": "3.7.5-final",
            "major": 3,
            "options": {
              "includePrerelease": false,
              "loose": false
            },
            "loose": false
          }
        }
      },
      "name": "python37564bit19fc6ae647c641adb0275f47650d0219"
    },
    "nteract": {
      "version": "0.24.0"
    }
  },
  "nbformat": 4,
  "nbformat_minor": 0
}