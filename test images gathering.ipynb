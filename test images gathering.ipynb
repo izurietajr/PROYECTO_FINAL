{
  "cells": [
    {
      "cell_type": "markdown",
      "source": [
        "# Obtención de imágenes de prueba\n",
        "\n",
        "Para definir los tipos de hojas que clasificaremos, necesitaremos recolectar información sobre su forma.\n",
        "\n",
        "Primeramente importaremos algunas bibliotecas que usaremos, el archivo image provee algunas operaciones básicas sobre imágenes, puede encontrarse [aquí](https://github.com/izurietajr/image-recognition/blob/master/image.py), también usaremos matplotlib para visualizar los momentos obtenidos para cada imagen."
      ],
      "metadata": {
        "nteract": {
          "transient": {
            "deleting": false
          }
        }
      }
    },
    {
      "cell_type": "code",
      "source": [
        "from image import Image\n",
        "import matplotlib.pyplot as plt"
      ],
      "outputs": [],
      "execution_count": 1,
      "metadata": {
        "collapsed": true,
        "jupyter": {
          "source_hidden": false,
          "outputs_hidden": false
        },
        "nteract": {
          "transient": {
            "deleting": false
          }
        },
        "execution": {
          "iopub.status.busy": "2020-07-26T06:26:20.376Z",
          "iopub.execute_input": "2020-07-26T06:26:20.382Z",
          "iopub.status.idle": "2020-07-26T06:26:20.560Z",
          "shell.execute_reply": "2020-07-26T06:26:20.617Z"
        }
      }
    },
    {
      "cell_type": "markdown",
      "source": [
        "Cargamos algunas imágenes básicas de prueba para comparar cómo varían sus momentos al variar sus tamaños y posición."
      ],
      "metadata": {
        "nteract": {
          "transient": {
            "deleting": false
          }
        }
      }
    },
    {
      "cell_type": "code",
      "source": [
        "lanceolada = \"./testimages/leafs/lanceolada.jpg\"\n",
        "flabelada = \"./testimages/leafs/flabelada.jpg\"\n",
        "acumitada = \"./testimages/leafs/acumitada.jpg\"\n",
        "orbicular = \"./testimages/leafs/orbicular.jpg\"\n",
        "romboide = \"./testimages/leafs/romboide.jpg\"\n",
        "ovada = \"./testimages/leafs/ovada.jpg\"\n",
        "astada = \"./testimages/leafs/astada.jpg\"\n",
        "palmeada = \"./testimages/leafs/palmeada.jpg\"\n",
        "sagitada = \"./testimages/leafs/sagitada.jpg\"\n",
        "\n",
        "leafs =[flabelada,acumitada,orbicular,romboide,ovada,astada,palmeada,sagitada]\n"
      ],
      "outputs": [],
      "execution_count": 2,
      "metadata": {
        "collapsed": true,
        "jupyter": {
          "source_hidden": false,
          "outputs_hidden": false
        },
        "nteract": {
          "transient": {
            "deleting": false
          }
        },
        "execution": {
          "iopub.status.busy": "2020-07-26T06:26:20.569Z",
          "iopub.execute_input": "2020-07-26T06:26:20.574Z",
          "iopub.status.idle": "2020-07-26T06:26:20.584Z",
          "shell.execute_reply": "2020-07-26T06:26:20.620Z"
        }
      }
    },
    {
      "cell_type": "code",
      "source": [
        "ll = Image()\n",
        "ll.load_file(lanceolada)"
      ],
      "outputs": [],
      "execution_count": 3,
      "metadata": {
        "collapsed": true,
        "jupyter": {
          "source_hidden": false,
          "outputs_hidden": false
        },
        "nteract": {
          "transient": {
            "deleting": false
          }
        },
        "execution": {
          "iopub.status.busy": "2020-07-26T06:26:20.593Z",
          "iopub.execute_input": "2020-07-26T06:26:20.600Z",
          "iopub.status.idle": "2020-07-26T06:26:20.612Z",
          "shell.execute_reply": "2020-07-26T06:26:20.624Z"
        }
      }
    },
    {
      "cell_type": "code",
      "source": [
        "ll.show()"
      ],
      "outputs": [
        {
          "output_type": "execute_result",
          "execution_count": 4,
          "data": {
            "text/plain": "<PIL.Image.Image image mode=RGB size=210x84 at 0x11F7000D0>",
            "image/png": "[encoded data removed]"
          },
          "metadata": {}
        }
      ],
      "execution_count": 4,
      "metadata": {
        "collapsed": true,
        "jupyter": {
          "source_hidden": false,
          "outputs_hidden": false
        },
        "nteract": {
          "transient": {
            "deleting": false
          }
        },
        "execution": {
          "iopub.status.busy": "2020-07-26T06:26:20.633Z",
          "iopub.execute_input": "2020-07-26T06:26:20.639Z",
          "iopub.status.idle": "2020-07-26T06:26:20.654Z",
          "shell.execute_reply": "2020-07-26T06:26:20.667Z"
        }
      }
    },
    {
      "cell_type": "code",
      "source": [
        "print(ll.hu_moments())"
      ],
      "outputs": [
        {
          "output_type": "stream",
          "name": "stdout",
          "text": [
            "(0.3999693426853134, 0.08241080043135868)\n"
          ]
        }
      ],
      "execution_count": 5,
      "metadata": {
        "collapsed": true,
        "jupyter": {
          "source_hidden": false,
          "outputs_hidden": false
        },
        "nteract": {
          "transient": {
            "deleting": false
          }
        },
        "execution": {
          "iopub.status.busy": "2020-07-26T06:26:20.677Z",
          "iopub.execute_input": "2020-07-26T06:26:20.722Z",
          "iopub.status.idle": "2020-07-26T06:26:20.741Z",
          "shell.execute_reply": "2020-07-26T06:26:20.753Z"
        }
      }
    },
    {
      "cell_type": "code",
      "source": [
        "lle = ll\n",
        "bound = lambda x: 255 if x > 200 else 1\n",
        "lle.map_over(lambda r, g, b: (bound(r), bound(r), bound(r)))\n",
        "lle.show()"
      ],
      "outputs": [
        {
          "output_type": "execute_result",
          "execution_count": 6,
          "data": {
            "text/plain": "<PIL.Image.Image image mode=RGB size=210x84 at 0x11F710690>",
            "image/png": "[encoded data removed]"
          },
          "metadata": {}
        }
      ],
      "execution_count": 6,
      "metadata": {
        "collapsed": true,
        "jupyter": {
          "source_hidden": false,
          "outputs_hidden": false
        },
        "nteract": {
          "transient": {
            "deleting": false
          }
        },
        "execution": {
          "iopub.status.busy": "2020-07-26T06:26:20.769Z",
          "iopub.execute_input": "2020-07-26T06:26:20.776Z",
          "iopub.status.idle": "2020-07-26T06:26:20.788Z",
          "shell.execute_reply": "2020-07-26T06:26:20.801Z"
        }
      }
    },
    {
      "cell_type": "code",
      "source": [
        "print(ll.hu_moments())"
      ],
      "outputs": [
        {
          "output_type": "stream",
          "name": "stdout",
          "text": [
            "(0.37909044343709997, 0.07376957553180492)\n"
          ]
        }
      ],
      "execution_count": 7,
      "metadata": {
        "collapsed": true,
        "jupyter": {
          "source_hidden": false,
          "outputs_hidden": false
        },
        "nteract": {
          "transient": {
            "deleting": false
          }
        },
        "execution": {
          "iopub.status.busy": "2020-07-26T06:26:20.830Z",
          "iopub.execute_input": "2020-07-26T06:26:20.870Z",
          "iopub.status.idle": "2020-07-26T06:26:20.888Z",
          "shell.execute_reply": "2020-07-26T06:26:20.930Z"
        }
      }
    },
    {
      "cell_type": "markdown",
      "source": [
        "Realizaremos este proceso para cada una de las imágenes de prueba."
      ],
      "metadata": {
        "nteract": {
          "transient": {
            "deleting": false
          }
        }
      }
    },
    {
      "cell_type": "code",
      "source": [
        "def binarize(url):\n",
        "    ll = Image()\n",
        "    ll.load_file(url)\n",
        "    ll.map_over(lambda r, g, b: (bound(r), bound(r), bound(r)))\n",
        "    return ll\n",
        "    \n",
        "binary_leafs = map(binarize, leafs)\n",
        "hu_moments = list(map(lambda x: x.hu_moments(), binary_leafs))"
      ],
      "outputs": [],
      "execution_count": 8,
      "metadata": {
        "collapsed": true,
        "jupyter": {
          "source_hidden": false,
          "outputs_hidden": false
        },
        "nteract": {
          "transient": {
            "deleting": false
          }
        },
        "execution": {
          "iopub.status.busy": "2020-07-26T06:26:20.899Z",
          "iopub.execute_input": "2020-07-26T06:26:20.907Z",
          "iopub.status.idle": "2020-07-26T06:26:22.695Z",
          "shell.execute_reply": "2020-07-26T06:26:22.705Z"
        }
      }
    },
    {
      "cell_type": "code",
      "source": [
        "plt.scatter(*zip(*hu_moments))\n",
        "plt.show()"
      ],
      "outputs": [
        {
          "output_type": "display_data",
          "data": {
            "text/plain": "<Figure size 432x288 with 1 Axes>",
            "image/png": "[encoded data removed]"
          },
          "metadata": {
            "needs_background": "light"
          }
        }
      ],
      "execution_count": 9,
      "metadata": {
        "collapsed": true,
        "jupyter": {
          "source_hidden": false,
          "outputs_hidden": false
        },
        "nteract": {
          "transient": {
            "deleting": false
          }
        },
        "execution": {
          "iopub.status.busy": "2020-07-26T06:26:22.713Z",
          "iopub.execute_input": "2020-07-26T06:26:22.721Z",
          "iopub.status.idle": "2020-07-26T06:26:22.862Z",
          "shell.execute_reply": "2020-07-26T06:26:22.896Z"
        }
      }
    },
    {
      "cell_type": "markdown",
      "source": [
        "La gráfica nos muestra la disposición de los momentos invariantes para cada imagen, ahora compararemos con una imagen de prueba."
      ],
      "metadata": {
        "nteract": {
          "transient": {
            "deleting": false
          }
        }
      }
    },
    {
      "cell_type": "code",
      "source": [
        "test = \"./testimages/leafs/test.jpg\"\n",
        "tl = binarize(test)\n",
        "tl.show()"
      ],
      "outputs": [
        {
          "output_type": "execute_result",
          "execution_count": 10,
          "data": {
            "text/plain": "<PIL.Image.Image image mode=RGB size=554x814 at 0x11F168490>",
            "image/png": "[encoded data removed]"
          },
          "metadata": {}
        }
      ],
      "execution_count": 10,
      "metadata": {
        "collapsed": true,
        "jupyter": {
          "source_hidden": false,
          "outputs_hidden": false
        },
        "nteract": {
          "transient": {
            "deleting": false
          }
        },
        "execution": {
          "iopub.status.busy": "2020-07-26T06:26:22.873Z",
          "iopub.execute_input": "2020-07-26T06:26:22.880Z",
          "iopub.status.idle": "2020-07-26T06:26:23.772Z",
          "shell.execute_reply": "2020-07-26T06:26:23.785Z"
        }
      }
    },
    {
      "cell_type": "code",
      "source": [
        "tm = tl.hu_moments()"
      ],
      "outputs": [],
      "execution_count": 11,
      "metadata": {
        "collapsed": true,
        "jupyter": {
          "source_hidden": false,
          "outputs_hidden": false
        },
        "nteract": {
          "transient": {
            "deleting": false
          }
        },
        "execution": {
          "iopub.status.busy": "2020-07-26T06:26:23.825Z",
          "iopub.execute_input": "2020-07-26T06:26:23.871Z",
          "iopub.status.idle": "2020-07-26T06:26:26.019Z",
          "shell.execute_reply": "2020-07-26T06:26:26.027Z"
        }
      }
    },
    {
      "cell_type": "code",
      "source": [
        "def get_moments(url):\n",
        "    im = Image()\n",
        "    im.load_file(url)\n",
        "    return (url, im.hu_moments())"
      ],
      "outputs": [],
      "execution_count": null,
      "metadata": {
        "collapsed": true,
        "jupyter": {
          "source_hidden": false,
          "outputs_hidden": false
        },
        "nteract": {
          "transient": {
            "deleting": false
          }
        }
      }
    },
    {
      "cell_type": "code",
      "source": [
        "plt.scatter(*zip(*hu_moments))\n",
        "plt.scatter(*tm)\n",
        "plt.annotate(\"leaf\", hu_moments[0])\n",
        "plt.annotate(\"test\", tm)\n",
        "plt.show()"
      ],
      "outputs": [
        {
          "output_type": "display_data",
          "data": {
            "text/plain": "<Figure size 432x288 with 1 Axes>",
            "image/png": "[encoded data removed]"
          },
          "metadata": {
            "needs_background": "light"
          }
        }
      ],
      "execution_count": 12,
      "metadata": {
        "collapsed": true,
        "jupyter": {
          "source_hidden": false,
          "outputs_hidden": false
        },
        "nteract": {
          "transient": {
            "deleting": false
          }
        },
        "execution": {
          "iopub.status.busy": "2020-07-26T06:26:26.046Z",
          "iopub.execute_input": "2020-07-26T06:26:26.088Z",
          "iopub.status.idle": "2020-07-26T06:26:26.208Z",
          "shell.execute_reply": "2020-07-26T06:26:26.243Z"
        }
      }
    },
    {
      "cell_type": "code",
      "source": [
        "\n",
        "  \n",
        "#hu_moments2 = list(map(get_moments, leafs))\n",
        "  \n",
        "plt.scatter(*zip(*hu_moments))\n",
        "plt.scatter(*tm)\n",
        "#for label, moments in hu_moments2:\n",
        "#    plt.annotate(label, moments)\n",
        "\n",
        "url, moments = get_moments(leafs[1])\n",
        "print(url)\n",
        "plt.scatter(*moments)\n",
        "plt.annotate(\"test\", tm)\n",
        "plt.show()"
      ],
      "outputs": [
        {
          "output_type": "stream",
          "name": "stdout",
          "text": [
            "./testimages/leafs/acumitada.jpg\n"
          ]
        },
        {
          "output_type": "display_data",
          "data": {
            "text/plain": "<Figure size 432x288 with 1 Axes>",
            "image/png": "[encoded data removed]"
          },
          "metadata": {
            "needs_background": "light"
          }
        }
      ],
      "execution_count": 13,
      "metadata": {
        "collapsed": true,
        "jupyter": {
          "source_hidden": false,
          "outputs_hidden": false
        },
        "nteract": {
          "transient": {
            "deleting": false
          }
        },
        "execution": {
          "iopub.status.busy": "2020-07-26T06:26:26.226Z",
          "iopub.execute_input": "2020-07-26T06:26:26.234Z",
          "iopub.status.idle": "2020-07-26T06:26:26.501Z",
          "shell.execute_reply": "2020-07-26T06:26:26.513Z"
        }
      }
    },
    {
      "cell_type": "markdown",
      "source": [
        "La imagen con colores invertidos se aleja un poco del grupo, sin embargo la destancia es mejor a la distancia que tienen con la imagen distorcionada."
      ],
      "metadata": {
        "nteract": {
          "transient": {
            "deleting": false
          }
        }
      }
    }
  ],
  "metadata": {
    "kernel_info": {
      "name": "python37564bit19fc6ae647c641adb0275f47650d0219"
    },
    "language_info": {
      "name": "python",
      "version": "3.7.5",
      "mimetype": "text/x-python",
      "codemirror_mode": {
        "name": "ipython",
        "version": 3
      },
      "pygments_lexer": "ipython3",
      "nbconvert_exporter": "python",
      "file_extension": ".py"
    },
    "kernelspec": {
      "argv": [
        "/usr/local/bin/python3",
        "-m",
        "ipykernel_launcher",
        "-f",
        "{connection_file}"
      ],
      "display_name": "Python 3.7.5 64-bit",
      "env": {},
      "language": "python",
      "metadata": {
        "interpreter": {
          "__store": true,
          "architecture": 3,
          "displayName": "Python 3.7.5 64-bit",
          "fileHash": "ddfc44467bbd40d576685c0eb3cd4a3621d99d1c3340a0c47f651ef4539224d1a362d3fa354acad1b6fe713e24dc76ad7c0998a0b0d163f8b28a692dd4fdbb7b",
          "path": "/usr/local/bin/python3",
          "sysPrefix": "/usr/local/Cellar/python/3.7.5/Frameworks/Python.framework/Versions/3.7",
          "type": "Unknown",
          "version": {
            "prerelease": [
              "final"
            ],
            "raw": "3.7.5-final",
            "patch": 5,
            "build": [],
            "minor": 7,
            "version": "3.7.5-final",
            "major": 3,
            "options": {
              "includePrerelease": false,
              "loose": false
            },
            "loose": false
          }
        }
      },
      "name": "python37564bit19fc6ae647c641adb0275f47650d0219"
    },
    "nteract": {
      "version": "0.24.0"
    }
  },
  "nbformat": 4,
  "nbformat_minor": 0
}